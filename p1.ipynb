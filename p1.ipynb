{
  "nbformat": 4,
  "nbformat_minor": 0,
  "metadata": {
    "colab": {
      "provenance": [],
      "authorship_tag": "ABX9TyP3r95Hna8WK0vVZc+GNuL5",
      "include_colab_link": true
    },
    "kernelspec": {
      "name": "python3",
      "display_name": "Python 3"
    },
    "language_info": {
      "name": "python"
    }
  },
  "cells": [
    {
      "cell_type": "markdown",
      "metadata": {
        "id": "view-in-github",
        "colab_type": "text"
      },
      "source": [
        "<a href=\"https://colab.research.google.com/github/ChinmaiHK/chinmaihk.github.io/blob/main/p1.ipynb\" target=\"_parent\"><img src=\"https://colab.research.google.com/assets/colab-badge.svg\" alt=\"Open In Colab\"/></a>"
      ]
    },
    {
      "cell_type": "code",
      "execution_count": 2,
      "metadata": {
        "colab": {
          "base_uri": "https://localhost:8080/"
        },
        "id": "5yDWE3b_nyUt",
        "outputId": "9e0dbcbe-f020-437d-e614-5bf1f28071bf"
      },
      "outputs": [
        {
          "output_type": "stream",
          "name": "stdout",
          "text": [
            "Hithendra stop talking\n"
          ]
        }
      ],
      "source": [
        "print('Hithendra stop talking')"
      ]
    },
    {
      "cell_type": "code",
      "source": [
        "a=10\n",
        "b=20\n",
        "c=a*b\n",
        "print(c)"
      ],
      "metadata": {
        "colab": {
          "base_uri": "https://localhost:8080/"
        },
        "id": "McJCa1cJoWS4",
        "outputId": "340e7509-8c99-4dc1-f2e1-9afbf4cd60ae"
      },
      "execution_count": 3,
      "outputs": [
        {
          "output_type": "stream",
          "name": "stdout",
          "text": [
            "200\n"
          ]
        }
      ]
    },
    {
      "cell_type": "code",
      "source": [
        "a=int(input('Enter a number: '))\n",
        "flag=0\n",
        "c=int(a/2)\n",
        "for i in range(2,c+1):\n",
        "  d=float(a%i)\n",
        "  if d==0:\n",
        "    flag=1\n",
        "    break\n",
        "  else:\n",
        "    flag=0\n",
        "if flag==1:\n",
        "  print(a,'is not prime')\n",
        "else:\n",
        "  print(a,'is prime')"
      ],
      "metadata": {
        "colab": {
          "base_uri": "https://localhost:8080/"
        },
        "id": "ChyzOgbLo1lP",
        "outputId": "da764a82-9417-459c-9825-3b944185ce3c"
      },
      "execution_count": 15,
      "outputs": [
        {
          "output_type": "stream",
          "name": "stdout",
          "text": [
            "Enter a number: 10\n",
            "10 is not prime\n"
          ]
        }
      ]
    },
    {
      "cell_type": "code",
      "source": [
        "import numpy as np\n",
        "arr=np.array((1,2,3))\n",
        "print('Array=',arr)\n",
        "print(type(arr))"
      ],
      "metadata": {
        "colab": {
          "base_uri": "https://localhost:8080/"
        },
        "id": "U8JV6IbtrRn5",
        "outputId": "854e945b-0eaf-4700-d5bd-93266ebb25f1"
      },
      "execution_count": 16,
      "outputs": [
        {
          "output_type": "stream",
          "name": "stdout",
          "text": [
            "Array= [1 2 3]\n",
            "<class 'numpy.ndarray'>\n"
          ]
        }
      ]
    },
    {
      "cell_type": "code",
      "source": [],
      "metadata": {
        "id": "bk8YBvhuszTZ"
      },
      "execution_count": 17,
      "outputs": []
    }
  ]
}